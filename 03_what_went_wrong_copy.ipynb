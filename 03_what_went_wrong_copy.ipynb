{
  "cells": [
    {
      "cell_type": "markdown",
      "id": "a0f085d9",
      "metadata": {
        "id": "a0f085d9"
      },
      "source": [
        "<img src='https://github.com/zjims/python-for-ai/blob/main/images/Practicum_AI_Logo.white_outline.svg?raw=1' width=250 alt='Practicum AI logo'> <img src='https://github.com/PracticumAI/practicumai.github.io/blob/main/images/icons/practicumai_python.png?raw=true' align='right' width=50>\n",
        "***\n",
        "\n",
        "# What Went Wrong??\n",
        "\n",
        "Whether it's a typo or trying to solve a complex problem, you will undoubtedly encounter errors when coding! <img src='https://github.com/PracticumAI/python-for-ai/blob/main/images/frustrating_error.png?raw=true' alt='Icon of a person with a hand on head and an exclamation point' width=150 align='right'>\n",
        "\n",
        "Mistakes, errors, problem-solving, and, unfortunately, frustration are sometimes part of coding. Those can also lead to great joy when these problems are solved!\n",
        "\n",
        "But learning to solve problems is also something that can take practice. We will all run into errors, but having resources and experience to solve those errors rather than giving up is critical.\n",
        "\n",
        "This notebook is designed to help lead you through how we solve some common errors. We will look at:\n",
        "\n",
        "* Strategies for interpreting error messages\n",
        "* Online resources for finding help with errors\n",
        "* New possibilities with AI-powered tools to solve errors"
      ]
    },
    {
      "cell_type": "markdown",
      "id": "52fea84c",
      "metadata": {
        "id": "52fea84c"
      },
      "source": [
        "## Common typos\n",
        "\n",
        "Let's start trying to solve some of these errors. Each cell below has code that will generate an error. Can you fix them?"
      ]
    },
    {
      "cell_type": "code",
      "execution_count": null,
      "id": "c0f4d9eb",
      "metadata": {
        "tags": [],
        "id": "c0f4d9eb",
        "outputId": "59a5b818-c480-4fb5-c5b9-e9561c99e8bc",
        "colab": {
          "base_uri": "https://localhost:8080/"
        }
      },
      "outputs": [
        {
          "output_type": "stream",
          "name": "stdout",
          "text": [
            "I am storing the value 5\n"
          ]
        }
      ],
      "source": [
        "my_value = 5\n",
        "print(f'I am storing the value {my_value}')"
      ]
    },
    {
      "cell_type": "code",
      "execution_count": null,
      "id": "21314a7d",
      "metadata": {
        "tags": [],
        "id": "21314a7d"
      },
      "outputs": [],
      "source": [
        "def print_message():\n",
        "    print(\"If this prints you fixed the error!\")"
      ]
    },
    {
      "cell_type": "code",
      "execution_count": null,
      "id": "d1ce848d",
      "metadata": {
        "tags": [],
        "id": "d1ce848d"
      },
      "outputs": [],
      "source": [
        "import pandas as pd\n",
        "\n",
        "url='https://raw.githubusercontent.com/PracticumAI/python-for-ai/main/data/gapminder_all.csv' # Direct link to the dataset on GitHub\n",
        "df = pd.read_csv(url)"
      ]
    },
    {
      "cell_type": "markdown",
      "id": "57e2c808",
      "metadata": {
        "id": "57e2c808"
      },
      "source": [
        "Ok, that last one isn't really a typo but a difference in how things are imported. Nothing is wrong with the `import pandas` line, but you will get an error if you try to use the common alias `pd`."
      ]
    },
    {
      "cell_type": "markdown",
      "id": "8344885d",
      "metadata": {
        "id": "8344885d"
      },
      "source": [
        "## The wall of red\n",
        "\n",
        "Sometimes, the error message is very long, and you are faced with a wall of red that can be intimidating. In these cases, the best solution is to start at the bottom of the error and work up a few lines to see if you can determine the source of the error.\n",
        "\n",
        "Have a try at this one:"
      ]
    },
    {
      "cell_type": "code",
      "execution_count": 4,
      "id": "d4ddfdac",
      "metadata": {
        "tags": [],
        "id": "d4ddfdac",
        "outputId": "81b612b3-e774-4936-8f38-1fcc2384c18c",
        "colab": {
          "base_uri": "https://localhost:8080/",
          "height": 430
        }
      },
      "outputs": [
        {
          "output_type": "display_data",
          "data": {
            "text/plain": [
              "<Figure size 640x480 with 1 Axes>"
            ],
            "image/png": "[encoded data removed]"
          },
          "metadata": {}
        }
      ],
      "source": [
        "import pandas as pd\n",
        "\n",
        "url='https://raw.githubusercontent.com/PracticumAI/python-for-ai/main/data/gapminder_all.csv' # Direct link to the dataset on GitHub\n",
        "df = pd.read_csv(url) # Create the dataframe from the given URL\n",
        "hist = df['gdpPercap_2007'].hist()\n"
      ]
    },
    {
      "cell_type": "markdown",
      "id": "d1762377",
      "metadata": {
        "id": "d1762377"
      },
      "source": [
        "   `KeyError: 'gdpPercap_2024'`\n",
        "\n",
        "It seems like a lot of text to tell you that the column `gdpPercap_2024` doesn't exist. `KeyError`s are pretty common mistakes and mean that you are trying to access a column that doesn't exist. There isn't data for 2024 in this case, but sometimes it's a typo in the name or an extra space somewhere.\n",
        "\n",
        "But, again, scrolling to the bottom gives the best summary of what went wrong.\n",
        "\n",
        "Scrolling back up a ways, you will see the line where the error occurred:\n",
        "\n",
        "   `----> 5 hist = df['gdpPercap_2024'].hist()`\n",
        "   \n",
        "Though that can sometimes be off by a few lines, and the line called out is just where things stopped.\n"
      ]
    },
    {
      "cell_type": "markdown",
      "id": "921f9588",
      "metadata": {
        "id": "921f9588"
      },
      "source": [
        "## Not all red is bad!\n",
        "\n",
        "Especially in AI, there are a few common cases where red output text doesn't mean things failed.\n",
        "\n",
        "1. With the rapid development of AI frameworks, it is common that functions are renamed, moved, replaced, or modified in other ways. In most cases, the developers will warn you that this is happening in the future and start issuing what are called **deprecation** warnings--something that is deprecated is being phased out and will, at some point, stop working. Take note of these warnings, especially if you are developing code you hope to use for a while. Changing to the new name/function/way of calling the feature now may save you trouble in the future. But, despite the warning, the function will still work for now.\n",
        "\n",
        "   * In the example below, the deprecated function wasn't even called in our code but by a function we called. In this case, you can try updating the package or ignore it for now.\n",
        "\n",
        "   ![Screenshot of a deprecation warning](https://github.com/zjims/python-for-ai/blob/main/images/deprecation_warning.png?raw=1)\n",
        "  \n",
        "   * The deprecation warning reads, \"The rowNum attribute was deprecated in Matplotlib 3.2 and will be removed two minor releases later. Use ax.get_subplotspec().rowspan.start instead.\" This means the `rowNum` parameter is being phased out and will not be supported after Matplotlib 3.4 (two minor versions later). A replacement is also suggested.\n"
      ]
    },
    {
      "cell_type": "markdown",
      "id": "49293cf9",
      "metadata": {
        "id": "49293cf9"
      },
      "source": [
        "2. Another common source of red output that can be ignored is when using GPUs (remember that's the Graphics Processing Unit used for much of the AI calculations). Often, when you first access the GPU, there is some logging and information about the GPU displayed. It would be nice if this were in a different color, but it's shown in red even though nothing is wrong!\n",
        "\n",
        "   This text is common when the GPU is first accessed:\n",
        "   ![Warning seen when a GPU is first accessed](https://github.com/PracticumAI/python-for-ai/blob/main/images/gpu_warning.png?raw=true)\n",
        "   \n",
        "   and this is common when you start a training run.\n",
        "   \n",
        "   ![Warning seen when a GPU is first accessed](https://github.com/PracticumAI/python-for-ai/blob/main/images/gpu_warning2.png?raw=true)\n",
        "   \n",
        "   **Both red blocks are logging messages and can be safely ignored. Despite the color, nothing has gone wrong!**"
      ]
    },
    {
      "cell_type": "markdown",
      "id": "3bf37c16",
      "metadata": {
        "id": "3bf37c16"
      },
      "source": [
        "## CUDA Memory errors\n",
        "\n",
        "> This tends not to be an issue on **Google Colab** as each notebook runs within its own environment. However, the free account limits you to one concurrent session at a time.\n",
        "\n",
        "Another class of error that you may encounter in working through notebooks, either in this course or in your development, is a CUDA out-of-memory error. CUDA is the programming language that interfaces with the GPU. When things work well, the error is relatively straightforward, e.g.:\n",
        "\n",
        "![CUDA out of memory error](https://github.com/PracticumAI/python-for-ai/blob/main/images/CUDA_OOM.png?raw=true)\n",
        "\n",
        "When things don't work well, the error can be more cryptic, and it can be hard to understand what went wrong.\n",
        "\n",
        "> The Python libraries we use work behind the scenes to communicate with CUDA, so you don't need to worry about it much. But when you see CUDA, know that it means something to do with a GPU.\n",
        "\n",
        "The source of the issue is that because there is time spent in moving data from the CPU memory (the computer's main RAM chips) to the GPU memory (the much more limited RAM built into the GPU itself), Python tries to minimize data movement. While notebooks are pretty good at managing the memory within a single notebook, a notebook will attempt to keep its memory on the GPU and not let other notebooks use the GPU RAM.\n",
        "\n",
        "So, if you have multiple notebooks open in a session, it is common to have odd errors caused by out-of-memory (OOM) situations. In many cases, Python recognizes and reports the error, but sometimes, hard-to-diagnose errors are displayed. In general, especially in our course notebooks, when you get an error, especially one using the GPU, suspect that there may be an out-of-memory error.\n",
        "\n",
        "To solve this, use the \"Running Terminals and Kernels\" panel and stop the kernels for notebooks you are not using. In this screenshot, there are several running notebooks:\n",
        "\n",
        "  ![screenshot of the Running Terminals and Kernels panel showing running notebook kernels](https://github.com/PracticumAI/python-for-ai/blob/main/images/Kernel_control.png?raw=true)\n",
        "  \n",
        "  Either use the \"**Shut Down All**\" button or close individual kernels. Unfortunately, you might need to restart the kernel for the notebook you are using and re-run all the cells from the top."
      ]
    },
    {
      "cell_type": "markdown",
      "id": "0e9bdf2c",
      "metadata": {
        "id": "0e9bdf2c"
      },
      "source": [
        "## What do you do when an error doesn't make sense?\n",
        "\n",
        "If you run into an issue where the cause of an error isn't clear, where do you go for help?\n",
        "\n",
        "Google (or another search engine) is usually a good starting point. The top results frequently have good information about the cause of the error. Here are sites with which you will likely become familiar:\n",
        "\n",
        "* [Stack Overflow](https://stackoverflow.com/): This is a great resource, and Google search results frequently feature relevant Stack Overflow posts where a user asks a question that resulted in an error similar to yours, and there are solutions provided. Other users can up-vote solutions to indicate that these are correct and helpful.\n",
        "* [Towards Data Science](https://towardsdatascience.com/) and [Medium](https://medium.com/): Towards Data Science is a blog that has multiple authors covering data science and AI tools. While not always a top hit in finding solutions, this site is frequently a resource when looking for methods for AI applications. Towards Data Science is part of a larger collection of sites under the Medium umbrella, with other sites, some of which also have great AI-focused content. Unfortunately, some of the content on these sites requires registration or subscription."
      ]
    },
    {
      "cell_type": "markdown",
      "id": "d2112074",
      "metadata": {
        "id": "d2112074"
      },
      "source": [
        "## Use AI for your AI tasks!\n",
        "\n",
        "Coding assistants and language models have made huge advances in recent years and are often very good at diagnosing and solving problems in your code or even writing your code for you in the first place.\n",
        "\n",
        "In the Computational Thinking module of this course, we will explore the idea of **pseudo-code** (text written in plain English describing the steps that need to be taken to accomplish a task). Further, with AI coding tools like [GitHub Copilot](https://github.com/features/copilot), [HuggingChat](https://huggingface.co/chat/), and [ChatGPT](https://openai.com/chatgpt), you can input your pseudo-code and frequently get functional code as an output.\n",
        "\n",
        "As an example, enter the following pseudo-code into [HuggingChat](https://huggingface.co/chat/):\n",
        "\n",
        "> Write the Python code to:\n",
        ">\n",
        "> Load the dataset at 'https://raw.githubusercontent.com/PracticumAI/python-for-ai/main/data/gapminder_all.csv' into a dataframe\n",
        ">\n",
        "> Use the \"lifeExp_2007\" column as the y-value\n",
        ">\n",
        "> Drop all columns that start with \"lifeExp\"\n",
        ">\n",
        "> Create an AI model to predict \"lifeExp_2007\" from the other columns of data\n",
        "\n",
        "While the output code is **not** perfect, it is a surprisingly good start and will get you about 90% of the way to a working AI model!"
      ]
    },
    {
      "cell_type": "markdown",
      "id": "4f53bece",
      "metadata": {
        "id": "4f53bece"
      },
      "source": []
    },
    {
      "cell_type": "code",
      "source": [
        "#import pandas as pd\n",
        "from sklearn.model_selection import train_test_split\n",
        "from sklearn.linear_model import LinearRegression\n",
        "from sklearn.metrics import mean_squared_error\n",
        "\n",
        "# Load the dataset into a dataframe\n",
        "# url = 'https://raw.githubusercontent.com/PracticumAI/python-for-ai/main/data/gapminder_all.csv'\n",
        "# df = pd.read_csv(url)\n",
        "\n",
        "# Use \"lifeExp_2007\" column as the y-value\n",
        "y = df['lifeExp_2007']\n",
        "hist = y.hist()\n"
      ],
      "metadata": {
        "id": "sOM_GmnXcD4d",
        "outputId": "687d3248-583d-43d3-9b92-fab6f16e80df",
        "colab": {
          "base_uri": "https://localhost:8080/",
          "height": 430
        }
      },
      "id": "sOM_GmnXcD4d",
      "execution_count": 20,
      "outputs": [
        {
          "output_type": "display_data",
          "data": {
            "text/plain": [
              "<Figure size 640x480 with 1 Axes>"
            ],
            "image/png": "[encoded data removed]"
          },
          "metadata": {}
        }
      ]
    },
    {
      "cell_type": "code",
      "source": [
        "# Drop all columns that start with \"lifeExp\"\n",
        "columns_to_drop = [col for col in df.columns if col.startswith('lifeExp')]\n",
        "X = df.drop(columns=columns_to_drop)\n",
        "X = X.drop(columns=['continent','country'])\n",
        "#X = df.drop(columns=['country'])\n",
        "X.head()\n"
      ],
      "metadata": {
        "id": "FvRJju_qdYWv",
        "outputId": "3db6151f-2011-41be-c72b-5302e5ce3280",
        "colab": {
          "base_uri": "https://localhost:8080/",
          "height": 255
        }
      },
      "id": "FvRJju_qdYWv",
      "execution_count": 15,
      "outputs": [
        {
          "output_type": "execute_result",
          "data": {
            "text/plain": [
              "   gdpPercap_1952  gdpPercap_1957  gdpPercap_1962  gdpPercap_1967  \\\n",
              "0     2449.008185     3013.976023     2550.816880     3246.991771   \n",
              "1     3520.610273     3827.940465     4269.276742     5522.776375   \n",
              "2     1062.752200      959.601080      949.499064     1035.831411   \n",
              "3      851.241141      918.232535      983.653976     1214.709294   \n",
              "4      543.255241      617.183465      722.512021      794.826560   \n",
              "\n",
              "   gdpPercap_1972  gdpPercap_1977  gdpPercap_1982  gdpPercap_1987  \\\n",
              "0     4182.663766     4910.416756     5745.160213     5681.358539   \n",
              "1     5473.288005     3008.647355     2756.953672     2430.208311   \n",
              "2     1085.796879     1029.161251     1277.897616     1225.856010   \n",
              "3     2263.611114     3214.857818     4551.142150     6205.883850   \n",
              "4      854.735976      743.387037      807.198586      912.063142   \n",
              "\n",
              "   gdpPercap_1992  gdpPercap_1997  ...    pop_1962    pop_1967    pop_1972  \\\n",
              "0     5023.216647     4797.295051  ...  11000948.0  12760499.0  14760787.0   \n",
              "1     2627.845685     2277.140884  ...   4826015.0   5247469.0   5894858.0   \n",
              "2     1191.207681     1232.975292  ...   2151895.0   2427334.0   2761407.0   \n",
              "3     7954.111645     8647.142313  ...    512764.0    553541.0    619351.0   \n",
              "4      931.752773      946.294962  ...   4919632.0   5127935.0   5433886.0   \n",
              "\n",
              "     pop_1977    pop_1982    pop_1987    pop_1992    pop_1997  pop_2002  \\\n",
              "0  17152804.0  20033753.0  23254956.0  26298373.0  29072015.0  31287142   \n",
              "1   6162675.0   7016384.0   7874230.0   8735988.0   9875024.0  10866106   \n",
              "2   3168267.0   3641603.0   4243788.0   4981671.0   6066080.0   7026113   \n",
              "3    781472.0    970347.0   1151184.0   1342614.0   1536536.0   1630347   \n",
              "4   5889574.0   6634596.0   7586551.0   8878303.0  10352843.0  12251209   \n",
              "\n",
              "   pop_2007  \n",
              "0  33333216  \n",
              "1  12420476  \n",
              "2   8078314  \n",
              "3   1639131  \n",
              "4  14326203  \n",
              "\n",
              "[5 rows x 24 columns]"
            ],
            "text/html": [
              "\n",
              "  <div id=\"df-e8dd4814-954b-46e9-898d-efb81e92e6ef\" class=\"colab-df-container\">\n",
              "    <div>\n",
              "<style scoped>\n",
              "    .dataframe tbody tr th:only-of-type {\n",
              "        vertical-align: middle;\n",
              "    }\n",
              "\n",
              "    .dataframe tbody tr th {\n",
              "        vertical-align: top;\n",
              "    }\n",
              "\n",
              "    .dataframe thead th {\n",
              "        text-align: right;\n",
              "    }\n",
              "</style>\n",
              "<table border=\"1\" class=\"dataframe\">\n",
              "  <thead>\n",
              "    <tr style=\"text-align: right;\">\n",
              "      <th></th>\n",
              "      <th>gdpPercap_1952</th>\n",
              "      <th>gdpPercap_1957</th>\n",
              "      <th>gdpPercap_1962</th>\n",
              "      <th>gdpPercap_1967</th>\n",
              "      <th>gdpPercap_1972</th>\n",
              "      <th>gdpPercap_1977</th>\n",
              "      <th>gdpPercap_1982</th>\n",
              "      <th>gdpPercap_1987</th>\n",
              "      <th>gdpPercap_1992</th>\n",
              "      <th>gdpPercap_1997</th>\n",
              "      <th>...</th>\n",
              "      <th>pop_1962</th>\n",
              "      <th>pop_1967</th>\n",
              "      <th>pop_1972</th>\n",
              "      <th>pop_1977</th>\n",
              "      <th>pop_1982</th>\n",
              "      <th>pop_1987</th>\n",
              "      <th>pop_1992</th>\n",
              "      <th>pop_1997</th>\n",
              "      <th>pop_2002</th>\n",
              "      <th>pop_2007</th>\n",
              "    </tr>\n",
              "  </thead>\n",
              "  <tbody>\n",
              "    <tr>\n",
              "      <th>0</th>\n",
              "      <td>2449.008185</td>\n",
              "      <td>3013.976023</td>\n",
              "      <td>2550.816880</td>\n",
              "      <td>3246.991771</td>\n",
              "      <td>4182.663766</td>\n",
              "      <td>4910.416756</td>\n",
              "      <td>5745.160213</td>\n",
              "      <td>5681.358539</td>\n",
              "      <td>5023.216647</td>\n",
              "      <td>4797.295051</td>\n",
              "      <td>...</td>\n",
              "      <td>11000948.0</td>\n",
              "      <td>12760499.0</td>\n",
              "      <td>14760787.0</td>\n",
              "      <td>17152804.0</td>\n",
              "      <td>20033753.0</td>\n",
              "      <td>23254956.0</td>\n",
              "      <td>26298373.0</td>\n",
              "      <td>29072015.0</td>\n",
              "      <td>31287142</td>\n",
              "      <td>33333216</td>\n",
              "    </tr>\n",
              "    <tr>\n",
              "      <th>1</th>\n",
              "      <td>3520.610273</td>\n",
              "      <td>3827.940465</td>\n",
              "      <td>4269.276742</td>\n",
              "      <td>5522.776375</td>\n",
              "      <td>5473.288005</td>\n",
              "      <td>3008.647355</td>\n",
              "      <td>2756.953672</td>\n",
              "      <td>2430.208311</td>\n",
              "      <td>2627.845685</td>\n",
              "      <td>2277.140884</td>\n",
              "      <td>...</td>\n",
              "      <td>4826015.0</td>\n",
              "      <td>5247469.0</td>\n",
              "      <td>5894858.0</td>\n",
              "      <td>6162675.0</td>\n",
              "      <td>7016384.0</td>\n",
              "      <td>7874230.0</td>\n",
              "      <td>8735988.0</td>\n",
              "      <td>9875024.0</td>\n",
              "      <td>10866106</td>\n",
              "      <td>12420476</td>\n",
              "    </tr>\n",
              "    <tr>\n",
              "      <th>2</th>\n",
              "      <td>1062.752200</td>\n",
              "      <td>959.601080</td>\n",
              "      <td>949.499064</td>\n",
              "      <td>1035.831411</td>\n",
              "      <td>1085.796879</td>\n",
              "      <td>1029.161251</td>\n",
              "      <td>1277.897616</td>\n",
              "      <td>1225.856010</td>\n",
              "      <td>1191.207681</td>\n",
              "      <td>1232.975292</td>\n",
              "      <td>...</td>\n",
              "      <td>2151895.0</td>\n",
              "      <td>2427334.0</td>\n",
              "      <td>2761407.0</td>\n",
              "      <td>3168267.0</td>\n",
              "      <td>3641603.0</td>\n",
              "      <td>4243788.0</td>\n",
              "      <td>4981671.0</td>\n",
              "      <td>6066080.0</td>\n",
              "      <td>7026113</td>\n",
              "      <td>8078314</td>\n",
              "    </tr>\n",
              "    <tr>\n",
              "      <th>3</th>\n",
              "      <td>851.241141</td>\n",
              "      <td>918.232535</td>\n",
              "      <td>983.653976</td>\n",
              "      <td>1214.709294</td>\n",
              "      <td>2263.611114</td>\n",
              "      <td>3214.857818</td>\n",
              "      <td>4551.142150</td>\n",
              "      <td>6205.883850</td>\n",
              "      <td>7954.111645</td>\n",
              "      <td>8647.142313</td>\n",
              "      <td>...</td>\n",
              "      <td>512764.0</td>\n",
              "      <td>553541.0</td>\n",
              "      <td>619351.0</td>\n",
              "      <td>781472.0</td>\n",
              "      <td>970347.0</td>\n",
              "      <td>1151184.0</td>\n",
              "      <td>1342614.0</td>\n",
              "      <td>1536536.0</td>\n",
              "      <td>1630347</td>\n",
              "      <td>1639131</td>\n",
              "    </tr>\n",
              "    <tr>\n",
              "      <th>4</th>\n",
              "      <td>543.255241</td>\n",
              "      <td>617.183465</td>\n",
              "      <td>722.512021</td>\n",
              "      <td>794.826560</td>\n",
              "      <td>854.735976</td>\n",
              "      <td>743.387037</td>\n",
              "      <td>807.198586</td>\n",
              "      <td>912.063142</td>\n",
              "      <td>931.752773</td>\n",
              "      <td>946.294962</td>\n",
              "      <td>...</td>\n",
              "      <td>4919632.0</td>\n",
              "      <td>5127935.0</td>\n",
              "      <td>5433886.0</td>\n",
              "      <td>5889574.0</td>\n",
              "      <td>6634596.0</td>\n",
              "      <td>7586551.0</td>\n",
              "      <td>8878303.0</td>\n",
              "      <td>10352843.0</td>\n",
              "      <td>12251209</td>\n",
              "      <td>14326203</td>\n",
              "    </tr>\n",
              "  </tbody>\n",
              "</table>\n",
              "<p>5 rows × 24 columns</p>\n",
              "</div>\n",
              "    <div class=\"colab-df-buttons\">\n",
              "\n",
              "  <div class=\"colab-df-container\">\n",
              "    <button class=\"colab-df-convert\" onclick=\"convertToInteractive('df-e8dd4814-954b-46e9-898d-efb81e92e6ef')\"\n",
              "            title=\"Convert this dataframe to an interactive table.\"\n",
              "            style=\"display:none;\">\n",
              "\n",
              "  <svg xmlns=\"http://www.w3.org/2000/svg\" height=\"24px\" viewBox=\"0 -960 960 960\">\n",
              "    <path d=\"M120-120v-720h720v720H120Zm60-500h600v-160H180v160Zm220 220h160v-160H400v160Zm0 220h160v-160H400v160ZM180-400h160v-160H180v160Zm440 0h160v-160H620v160ZM180-180h160v-160H180v160Zm440 0h160v-160H620v160Z\"/>\n",
              "  </svg>\n",
              "    </button>\n",
              "\n",
              "  <style>\n",
              "    .colab-df-container {\n",
              "      display:flex;\n",
              "      gap: 12px;\n",
              "    }\n",
              "\n",
              "    .colab-df-convert {\n",
              "      background-color: #E8F0FE;\n",
              "      border: none;\n",
              "      border-radius: 50%;\n",
              "      cursor: pointer;\n",
              "      display: none;\n",
              "      fill: #1967D2;\n",
              "      height: 32px;\n",
              "      padding: 0 0 0 0;\n",
              "      width: 32px;\n",
              "    }\n",
              "\n",
              "    .colab-df-convert:hover {\n",
              "      background-color: #E2EBFA;\n",
              "      box-shadow: 0px 1px 2px rgba(60, 64, 67, 0.3), 0px 1px 3px 1px rgba(60, 64, 67, 0.15);\n",
              "      fill: #174EA6;\n",
              "    }\n",
              "\n",
              "    .colab-df-buttons div {\n",
              "      margin-bottom: 4px;\n",
              "    }\n",
              "\n",
              "    [theme=dark] .colab-df-convert {\n",
              "      background-color: #3B4455;\n",
              "      fill: #D2E3FC;\n",
              "    }\n",
              "\n",
              "    [theme=dark] .colab-df-convert:hover {\n",
              "      background-color: #434B5C;\n",
              "      box-shadow: 0px 1px 3px 1px rgba(0, 0, 0, 0.15);\n",
              "      filter: drop-shadow(0px 1px 2px rgba(0, 0, 0, 0.3));\n",
              "      fill: #FFFFFF;\n",
              "    }\n",
              "  </style>\n",
              "\n",
              "    <script>\n",
              "      const buttonEl =\n",
              "        document.querySelector('#df-e8dd4814-954b-46e9-898d-efb81e92e6ef button.colab-df-convert');\n",
              "      buttonEl.style.display =\n",
              "        google.colab.kernel.accessAllowed ? 'block' : 'none';\n",
              "\n",
              "      async function convertToInteractive(key) {\n",
              "        const element = document.querySelector('#df-e8dd4814-954b-46e9-898d-efb81e92e6ef');\n",
              "        const dataTable =\n",
              "          await google.colab.kernel.invokeFunction('convertToInteractive',\n",
              "                                                    [key], {});\n",
              "        if (!dataTable) return;\n",
              "\n",
              "        const docLinkHtml = 'Like what you see? Visit the ' +\n",
              "          '<a target=\"_blank\" href=https://colab.research.google.com/notebooks/data_table.ipynb>data table notebook</a>'\n",
              "          + ' to learn more about interactive tables.';\n",
              "        element.innerHTML = '';\n",
              "        dataTable['output_type'] = 'display_data';\n",
              "        await google.colab.output.renderOutput(dataTable, element);\n",
              "        const docLink = document.createElement('div');\n",
              "        docLink.innerHTML = docLinkHtml;\n",
              "        element.appendChild(docLink);\n",
              "      }\n",
              "    </script>\n",
              "  </div>\n",
              "\n",
              "\n",
              "<div id=\"df-7d1454d1-3736-4ee3-9031-4e35aee05aa5\">\n",
              "  <button class=\"colab-df-quickchart\" onclick=\"quickchart('df-7d1454d1-3736-4ee3-9031-4e35aee05aa5')\"\n",
              "            title=\"Suggest charts\"\n",
              "            style=\"display:none;\">\n",
              "\n",
              "<svg xmlns=\"http://www.w3.org/2000/svg\" height=\"24px\"viewBox=\"0 0 24 24\"\n",
              "     width=\"24px\">\n",
              "    <g>\n",
              "        <path d=\"M19 3H5c-1.1 0-2 .9-2 2v14c0 1.1.9 2 2 2h14c1.1 0 2-.9 2-2V5c0-1.1-.9-2-2-2zM9 17H7v-7h2v7zm4 0h-2V7h2v10zm4 0h-2v-4h2v4z\"/>\n",
              "    </g>\n",
              "</svg>\n",
              "  </button>\n",
              "\n",
              "<style>\n",
              "  .colab-df-quickchart {\n",
              "      --bg-color: #E8F0FE;\n",
              "      --fill-color: #1967D2;\n",
              "      --hover-bg-color: #E2EBFA;\n",
              "      --hover-fill-color: #174EA6;\n",
              "      --disabled-fill-color: #AAA;\n",
              "      --disabled-bg-color: #DDD;\n",
              "  }\n",
              "\n",
              "  [theme=dark] .colab-df-quickchart {\n",
              "      --bg-color: #3B4455;\n",
              "      --fill-color: #D2E3FC;\n",
              "      --hover-bg-color: #434B5C;\n",
              "      --hover-fill-color: #FFFFFF;\n",
              "      --disabled-bg-color: #3B4455;\n",
              "      --disabled-fill-color: #666;\n",
              "  }\n",
              "\n",
              "  .colab-df-quickchart {\n",
              "    background-color: var(--bg-color);\n",
              "    border: none;\n",
              "    border-radius: 50%;\n",
              "    cursor: pointer;\n",
              "    display: none;\n",
              "    fill: var(--fill-color);\n",
              "    height: 32px;\n",
              "    padding: 0;\n",
              "    width: 32px;\n",
              "  }\n",
              "\n",
              "  .colab-df-quickchart:hover {\n",
              "    background-color: var(--hover-bg-color);\n",
              "    box-shadow: 0 1px 2px rgba(60, 64, 67, 0.3), 0 1px 3px 1px rgba(60, 64, 67, 0.15);\n",
              "    fill: var(--button-hover-fill-color);\n",
              "  }\n",
              "\n",
              "  .colab-df-quickchart-complete:disabled,\n",
              "  .colab-df-quickchart-complete:disabled:hover {\n",
              "    background-color: var(--disabled-bg-color);\n",
              "    fill: var(--disabled-fill-color);\n",
              "    box-shadow: none;\n",
              "  }\n",
              "\n",
              "  .colab-df-spinner {\n",
              "    border: 2px solid var(--fill-color);\n",
              "    border-color: transparent;\n",
              "    border-bottom-color: var(--fill-color);\n",
              "    animation:\n",
              "      spin 1s steps(1) infinite;\n",
              "  }\n",
              "\n",
              "  @keyframes spin {\n",
              "    0% {\n",
              "      border-color: transparent;\n",
              "      border-bottom-color: var(--fill-color);\n",
              "      border-left-color: var(--fill-color);\n",
              "    }\n",
              "    20% {\n",
              "      border-color: transparent;\n",
              "      border-left-color: var(--fill-color);\n",
              "      border-top-color: var(--fill-color);\n",
              "    }\n",
              "    30% {\n",
              "      border-color: transparent;\n",
              "      border-left-color: var(--fill-color);\n",
              "      border-top-color: var(--fill-color);\n",
              "      border-right-color: var(--fill-color);\n",
              "    }\n",
              "    40% {\n",
              "      border-color: transparent;\n",
              "      border-right-color: var(--fill-color);\n",
              "      border-top-color: var(--fill-color);\n",
              "    }\n",
              "    60% {\n",
              "      border-color: transparent;\n",
              "      border-right-color: var(--fill-color);\n",
              "    }\n",
              "    80% {\n",
              "      border-color: transparent;\n",
              "      border-right-color: var(--fill-color);\n",
              "      border-bottom-color: var(--fill-color);\n",
              "    }\n",
              "    90% {\n",
              "      border-color: transparent;\n",
              "      border-bottom-color: var(--fill-color);\n",
              "    }\n",
              "  }\n",
              "</style>\n",
              "\n",
              "  <script>\n",
              "    async function quickchart(key) {\n",
              "      const quickchartButtonEl =\n",
              "        document.querySelector('#' + key + ' button');\n",
              "      quickchartButtonEl.disabled = true;  // To prevent multiple clicks.\n",
              "      quickchartButtonEl.classList.add('colab-df-spinner');\n",
              "      try {\n",
              "        const charts = await google.colab.kernel.invokeFunction(\n",
              "            'suggestCharts', [key], {});\n",
              "      } catch (error) {\n",
              "        console.error('Error during call to suggestCharts:', error);\n",
              "      }\n",
              "      quickchartButtonEl.classList.remove('colab-df-spinner');\n",
              "      quickchartButtonEl.classList.add('colab-df-quickchart-complete');\n",
              "    }\n",
              "    (() => {\n",
              "      let quickchartButtonEl =\n",
              "        document.querySelector('#df-7d1454d1-3736-4ee3-9031-4e35aee05aa5 button');\n",
              "      quickchartButtonEl.style.display =\n",
              "        google.colab.kernel.accessAllowed ? 'block' : 'none';\n",
              "    })();\n",
              "  </script>\n",
              "</div>\n",
              "\n",
              "    </div>\n",
              "  </div>\n"
            ],
            "application/vnd.google.colaboratory.intrinsic+json": {
              "type": "dataframe",
              "variable_name": "X"
            }
          },
          "metadata": {},
          "execution_count": 15
        }
      ]
    },
    {
      "cell_type": "code",
      "source": [
        "# Split the data into training and testing sets\n",
        "X_train, X_test, y_train, y_test = train_test_split(X, y, test_size=0.2, random_state=42)\n",
        "\n",
        "# Create and train the model\n",
        "model = LinearRegression()\n",
        "model.fit(X_train, y_train)\n",
        "\n",
        "# Make predictions\n",
        "y_pred_train = model.predict(X_train)\n",
        "y_pred_test = model.predict(X_test)\n",
        "\n"
      ],
      "metadata": {
        "id": "95YGt7GOeK5o"
      },
      "id": "95YGt7GOeK5o",
      "execution_count": 16,
      "outputs": []
    },
    {
      "cell_type": "code",
      "source": [
        "# Plotting the data along with the linear regression model\n",
        "import matplotlib.pyplot as plt\n",
        "import numpy as np\n",
        "plt.scatter(y_test, y_pred_test, color='blue')\n",
        "plt.plot([y.min(), y.max()], [y.min(), y.max()], 'k--', lw=2)\n",
        "plt.xlabel('Actual Life Expectancy')\n",
        "plt.ylabel('Predicted Life Expectancy')\n",
        "plt.title('Actual vs. Predicted Life Expectancy (Test Data)')\n",
        "plt.show()"
      ],
      "metadata": {
        "id": "rzFlHEL4g4_P",
        "outputId": "4fdca04e-dfea-45d3-cedc-448be553ff14",
        "colab": {
          "base_uri": "https://localhost:8080/",
          "height": 472
        }
      },
      "id": "rzFlHEL4g4_P",
      "execution_count": 17,
      "outputs": [
        {
          "output_type": "display_data",
          "data": {
            "text/plain": [
              "<Figure size 640x480 with 1 Axes>"
            ],
            "image/png": "[encoded data removed]"
          },
          "metadata": {}
        }
      ]
    },
    {
      "cell_type": "code",
      "source": [
        "# Evaluate the model\n",
        "train_mse = mean_squared_error(y_train, y_pred_train)\n",
        "test_mse = mean_squared_error(y_test, y_pred_test)\n",
        "\n",
        "print(\"Train MSE:\", train_mse)\n",
        "print(\"Test MSE:\", test_mse)"
      ],
      "metadata": {
        "id": "g4KE-LglfIxv",
        "outputId": "c015572f-7ac5-4e77-e7eb-8e31e78e807e",
        "colab": {
          "base_uri": "https://localhost:8080/"
        }
      },
      "id": "g4KE-LglfIxv",
      "execution_count": 19,
      "outputs": [
        {
          "output_type": "stream",
          "name": "stdout",
          "text": [
            "Train MSE: 59.76752146305976\n",
            "Test MSE: 175.1732100856063\n"
          ]
        }
      ]
    },
    {
      "cell_type": "code",
      "source": [],
      "metadata": {
        "id": "r-07hPqujTYF"
      },
      "id": "r-07hPqujTYF",
      "execution_count": null,
      "outputs": []
    }
  ],
  "metadata": {
    "kernelspec": {
      "display_name": "Python 3 (ipykernel)",
      "language": "python",
      "name": "python3"
    },
    "language_info": {
      "codemirror_mode": {
        "name": "ipython",
        "version": 3
      },
      "file_extension": ".py",
      "mimetype": "text/x-python",
      "name": "python",
      "nbconvert_exporter": "python",
      "pygments_lexer": "ipython3",
      "version": "3.10.12"
    },
    "colab": {
      "provenance": []
    }
  },
  "nbformat": 4,
  "nbformat_minor": 5
}